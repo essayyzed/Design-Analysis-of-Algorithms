{
 "cells": [
  {
   "cell_type": "code",
   "execution_count": 13,
   "metadata": {},
   "outputs": [],
   "source": [
    "def zeroPad(numberString, zeros, left = True):\n",
    "\n",
    "    \"\"\"Return the string with zeros added to the left or right.\"\"\"\n",
    "\n",
    "    for i in range(zeros):\n",
    "\n",
    "        if left:\n",
    "\n",
    "            numberString = '0' + numberString\n",
    "\n",
    "        else:\n",
    "\n",
    "            numberString = numberString + '0'\n",
    "\n",
    "    return numberString"
   ]
  },
  {
   "cell_type": "code",
   "execution_count": 4,
   "metadata": {},
   "outputs": [],
   "source": [
    "\n",
    "def karatsuba(x,y):\n",
    "\t\"\"\"Function to multiply 2 numbers in a more efficient manner than the grade school algorithm\"\"\"\n",
    "\tif len(str(x)) == 1 or len(str(y)) == 1:\n",
    "\t\treturn x*y\n",
    "\telse:\n",
    "\t\tn = max(len(str(x)),len(str(y)))\n",
    "\t\tnby2 = int(n / 2)\n",
    "\t\t\n",
    "\t\ta = int(x / 10**(nby2))\n",
    "\t\tb = int(x % 10**(nby2))\n",
    "\t\tc = int(y / 10**(nby2))\n",
    "\t\td = int(y % 10**(nby2))\n",
    "\n",
    "\t\tac = karatsuba(a,c)\n",
    "\t\tbd = karatsuba(b,d)\n",
    "\t\tad_plus_bc = karatsuba(a+b,c+d) - ac - bd\n",
    "        \n",
    "        \t# this little trick, writing n as 2*nby2 takes care of both even and odd n\n",
    "\t\tprod = ac * 10**(2*nby2) + (ad_plus_bc * 10**nby2) + bd\n",
    "\n",
    "\t\treturn prod\n",
    "\n",
    "   "
   ]
  },
  {
   "cell_type": "code",
   "execution_count": 10,
   "metadata": {},
   "outputs": [
    {
     "data": {
      "text/plain": [
       "121611934"
      ]
     },
     "execution_count": 10,
     "metadata": {},
     "output_type": "execute_result"
    }
   ],
   "source": [
    "karatsuba(12,34)\n",
    "\n",
    "\n"
   ]
  },
  {
   "cell_type": "code",
   "execution_count": 16,
   "metadata": {},
   "outputs": [
    {
     "data": {
      "text/plain": [
       "'sad'"
      ]
     },
     "execution_count": 16,
     "metadata": {},
     "output_type": "execute_result"
    }
   ],
   "source": [
    "x = 'asad'\n",
    "x[1:]"
   ]
  },
  {
   "cell_type": "code",
   "execution_count": 1,
   "metadata": {},
   "outputs": [
    {
     "data": {
      "text/plain": [
       "0"
      ]
     },
     "execution_count": 1,
     "metadata": {},
     "output_type": "execute_result"
    }
   ],
   "source": [
    "333//10**3"
   ]
  },
  {
   "cell_type": "code",
   "execution_count": 3,
   "metadata": {},
   "outputs": [
    {
     "data": {
      "text/plain": [
       "333"
      ]
     },
     "execution_count": 3,
     "metadata": {},
     "output_type": "execute_result"
    }
   ],
   "source": [
    "333%1000"
   ]
  },
  {
   "cell_type": "code",
   "execution_count": 4,
   "metadata": {},
   "outputs": [
    {
     "data": {
      "text/plain": [
       "666"
      ]
     },
     "execution_count": 4,
     "metadata": {},
     "output_type": "execute_result"
    }
   ],
   "source": [
    "666666%10**3\n"
   ]
  },
  {
   "cell_type": "code",
   "execution_count": 5,
   "metadata": {},
   "outputs": [
    {
     "data": {
      "text/plain": [
       "'0'"
      ]
     },
     "execution_count": 5,
     "metadata": {},
     "output_type": "execute_result"
    }
   ],
   "source": [
    "x=\"0112\"\n",
    "x[:1]"
   ]
  },
  {
   "cell_type": "code",
   "execution_count": 7,
   "metadata": {},
   "outputs": [
    {
     "data": {
      "text/plain": [
       "242"
      ]
     },
     "execution_count": 7,
     "metadata": {},
     "output_type": "execute_result"
    }
   ],
   "source": [
    "\n",
    "def RecMultInt(x, y):\n",
    "    \"\"\"Muliplies two positive integers via D&C recursion\"\"\"\n",
    "\n",
    "    # base case\n",
    "    if len(str(x)) == 1 or len(str(y)) == 1:\n",
    "        return x*y\n",
    "    \n",
    "    # lengths of x and y...\n",
    "    x = str(x)\n",
    "    y = str(y)\n",
    "    n = len(x)\n",
    "    m = len(y)\n",
    "\n",
    "    # ...and their 'ceil' halves used for combining parts\n",
    "    nby2 = n//2 + 1 if n%2 == 1 else n//2\n",
    "    mby2 = m//2 + 1 if m%2 == 1 else m//2\n",
    "\n",
    "    # halving x and y into a,b and c,d \n",
    "    #   using 'floor' halves of lengths\n",
    "    a = x[: n//2]\n",
    "    b = x[n//2 :]\n",
    "    c = y[: m//2]\n",
    "    d = y[m//2 :]\n",
    "\n",
    "    # recursively multiply ac, ad, bc and bd\n",
    "    ac = RecMultInt(int(a), int(c))\n",
    "    ad = RecMultInt(int(a), int(d))\n",
    "    bc = RecMultInt(int(b), int(c))\n",
    "    bd = RecMultInt(int(b), int(d))\n",
    "\n",
    "    # combine adding zeros and return\n",
    "    product  = ac * 10**(nby2 + mby2)\n",
    "    product += ad * 10**(nby2)\n",
    "    product += bc * 10**(mby2)\n",
    "    product += bd\n",
    "    return product\n",
    "    \n",
    "RecMultInt(11,22)"
   ]
  },
  {
   "cell_type": "code",
   "execution_count": null,
   "metadata": {},
   "outputs": [],
   "source": []
  },
  {
   "cell_type": "code",
   "execution_count": null,
   "metadata": {},
   "outputs": [],
   "source": []
  },
  {
   "cell_type": "code",
   "execution_count": null,
   "metadata": {},
   "outputs": [],
   "source": []
  },
  {
   "cell_type": "code",
   "execution_count": null,
   "metadata": {},
   "outputs": [],
   "source": []
  },
  {
   "cell_type": "code",
   "execution_count": null,
   "metadata": {},
   "outputs": [],
   "source": []
  },
  {
   "cell_type": "code",
   "execution_count": null,
   "metadata": {},
   "outputs": [],
   "source": []
  },
  {
   "cell_type": "code",
   "execution_count": null,
   "metadata": {},
   "outputs": [],
   "source": []
  },
  {
   "cell_type": "code",
   "execution_count": null,
   "metadata": {},
   "outputs": [],
   "source": []
  },
  {
   "cell_type": "code",
   "execution_count": null,
   "metadata": {},
   "outputs": [],
   "source": []
  },
  {
   "cell_type": "code",
   "execution_count": null,
   "metadata": {},
   "outputs": [],
   "source": []
  },
  {
   "cell_type": "code",
   "execution_count": 27,
   "metadata": {},
   "outputs": [
    {
     "name": "stdout",
     "output_type": "stream",
     "text": [
      "62824691358024691104828641975308642\n"
     ]
    }
   ],
   "source": [
    "def divide_conquer_mul(multiplier , multiplicand):\n",
    "    \n",
    "    #base Case for Reccursion\n",
    "    \n",
    "    if len(str(multiplier)) == 1 or len(str(multiplicand)):\n",
    "        return multiplier * multiplicand\n",
    "    \n",
    "    #length of the multiplier & multiplicand\n",
    "    multiplier = str(multiplier)\n",
    "    multiplicand = str(multiplicand)\n",
    "    no_digits_multiplier = len(multiplier)\n",
    "    no_digits_multiplicand = len(multiplicand)\n",
    "    \n",
    "    \n",
    "    # ...and their 'ceil' halves used for combining parts\n",
    "    nby2 = no_digits_multiplier//2 + 1 if no_digits_multiplier % 2 == 1 else no_digits_multiplier//2\n",
    "    mby2 = no_digits_multiplicand//2 + 1 if no_digits_multiplicand % 2 == 1 else no_digits_multiplicand//2\n",
    "    \n",
    "    # halving multiplier and multiplicand into a,b and c,d...this where we are getting the pairs\n",
    "    #   using 'floor' halves of lengths\n",
    "    a , b = multiplier[ : no_digits_multiplier//2] , x[no_digits_multiplier//2 : ]\n",
    "    c , d = multiplicand[ : no_digits_multiplicand//2] , multiplicand[no_digits_multiplicand//2 : ]\n",
    "    \n",
    "    # recursively multiply ac, ad, bc and bd...this is where we multiply \n",
    "        #the pairs form from the step above\n",
    "    ac , ad = divide_conquer_mul(int(a) , int(c)) , divide_conquer_mul(int(a) , int(d))\n",
    "    bc , bd = divide_conquer_mul(int(b) , int(c)) , divide_conquer_mul(int(b) , int(d))\n",
    "    \n",
    "    \n",
    "     # combine adding zeros and return.... this is where summation addition of zeros occur\n",
    "    summation = ac * 10**(nby2 + mby2)\n",
    "    summation += ad * 10**(nby2)\n",
    "    summation += bc * 10**(mby2)\n",
    "    summation += bd\n",
    "    \n",
    "    return summation\n",
    "    \n",
    "    \n",
    "\n",
    "if __name__ == \"__main__\": \n",
    "    x = divide_conquer_mul(1111111111111111111 , 56542222222222222)\n",
    "    print(x)"
   ]
  },
  {
   "cell_type": "code",
   "execution_count": null,
   "metadata": {},
   "outputs": [],
   "source": []
  },
  {
   "cell_type": "code",
   "execution_count": null,
   "metadata": {},
   "outputs": [],
   "source": []
  }
 ],
 "metadata": {
  "kernelspec": {
   "display_name": "Python 3",
   "language": "python",
   "name": "python3"
  },
  "language_info": {
   "codemirror_mode": {
    "name": "ipython",
    "version": 3
   },
   "file_extension": ".py",
   "mimetype": "text/x-python",
   "name": "python",
   "nbconvert_exporter": "python",
   "pygments_lexer": "ipython3",
   "version": "3.7.3"
  }
 },
 "nbformat": 4,
 "nbformat_minor": 2
}
